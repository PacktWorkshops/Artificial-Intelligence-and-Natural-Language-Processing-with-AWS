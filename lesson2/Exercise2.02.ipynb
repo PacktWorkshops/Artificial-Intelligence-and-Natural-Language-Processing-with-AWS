{
 "cells": [
  {
   "cell_type": "markdown",
   "metadata": {},
   "source": [
    "### Exercise 2.02 : Detecting the Dominant Language in Multiple Documents"
   ]
  },
  {
   "cell_type": "markdown",
   "metadata": {},
   "source": [
    "### Pre checkup\n",
    "Assuming boto3 is installed _pip install boto3_\n",
    "\n",
    "Assuming a configuration is done by _aws configure_\n",
    "\n",
    "* Configured as follows in .aws/config:\n",
    " * [default]\n",
    " * _output = json_\n",
    " * _region = us-west-2_\n",
    "* Configured as follows in .aws/credentials:\n",
    " * [default]\n",
    " * _aws_access_key_id = YOUR_ACCESS_KEY_\n",
    " * _aws_secret_access_key = YOUR_SECRET_KEY_"
   ]
  },
  {
   "cell_type": "code",
   "execution_count": 1,
   "metadata": {},
   "outputs": [],
   "source": [
    "# import the AWS SDK for python (boto3) - http://boto3.readthedocs.io/en/latest/\n",
    "import boto3\n",
    "# import json module to serialize JSON - https://docs.python.org/3.6/library/json.html\n",
    "import json"
   ]
  },
  {
   "cell_type": "code",
   "execution_count": 2,
   "metadata": {},
   "outputs": [
    {
     "name": "stdout",
     "output_type": "stream",
     "text": [
      "Calling BatchDetectDominantLanguage\n",
      "english_string_list results:\n",
      "{\n",
      "    \"ErrorList\": [],\n",
      "    \"ResponseMetadata\": {\n",
      "        \"HTTPHeaders\": {\n",
      "            \"content-length\": \"180\",\n",
      "            \"content-type\": \"application/x-amz-json-1.1\",\n",
      "            \"date\": \"Sat, 18 Jan 2020 03:23:47 GMT\",\n",
      "            \"x-amzn-requestid\": \"2378fb4e-e4a8-469d-8160-3fd6d406c609\"\n",
      "        },\n",
      "        \"HTTPStatusCode\": 200,\n",
      "        \"RequestId\": \"2378fb4e-e4a8-469d-8160-3fd6d406c609\",\n",
      "        \"RetryAttempts\": 0\n",
      "    },\n",
      "    \"ResultList\": [\n",
      "        {\n",
      "            \"Index\": 0,\n",
      "            \"Languages\": [\n",
      "                {\n",
      "                    \"LanguageCode\": \"en\",\n",
      "                    \"Score\": 0.993855357170105\n",
      "                }\n",
      "            ]\n",
      "        },\n",
      "        {\n",
      "            \"Index\": 1,\n",
      "            \"Languages\": [\n",
      "                {\n",
      "                    \"LanguageCode\": \"en\",\n",
      "                    \"Score\": 0.9923509955406189\n",
      "                }\n",
      "            ]\n",
      "        }\n",
      "    ]\n",
      "}\n",
      "\n",
      "spanish_string_list results:\n",
      "{\n",
      "    \"ErrorList\": [],\n",
      "    \"ResponseMetadata\": {\n",
      "        \"HTTPHeaders\": {\n",
      "            \"content-length\": \"181\",\n",
      "            \"content-type\": \"application/x-amz-json-1.1\",\n",
      "            \"date\": \"Sat, 18 Jan 2020 03:23:47 GMT\",\n",
      "            \"x-amzn-requestid\": \"01546934-a5fb-48ab-a22a-4382a109e841\"\n",
      "        },\n",
      "        \"HTTPStatusCode\": 200,\n",
      "        \"RequestId\": \"01546934-a5fb-48ab-a22a-4382a109e841\",\n",
      "        \"RetryAttempts\": 0\n",
      "    },\n",
      "    \"ResultList\": [\n",
      "        {\n",
      "            \"Index\": 0,\n",
      "            \"Languages\": [\n",
      "                {\n",
      "                    \"LanguageCode\": \"es\",\n",
      "                    \"Score\": 0.9917230010032654\n",
      "                }\n",
      "            ]\n",
      "        },\n",
      "        {\n",
      "            \"Index\": 1,\n",
      "            \"Languages\": [\n",
      "                {\n",
      "                    \"LanguageCode\": \"es\",\n",
      "                    \"Score\": 0.9684520363807678\n",
      "                }\n",
      "            ]\n",
      "        }\n",
      "    ]\n",
      "}\n",
      "End of BatchDetectDominantLanguage\n",
      "\n"
     ]
    }
   ],
   "source": [
    "# instantiate a new comprehend client\n",
    "comprehend = boto3.client(service_name='comprehend')\n",
    "\n",
    "# provide english and spanish text to analyze\n",
    "english_string_list = ['Machine Learning is fascinating.', 'Studying Artificial Intelligence is my passion.'] \n",
    "spanish_string_list = ['El aprendizaje automático es fascinante.', 'Estudiar Inteligencia Artificial es mi pasión.']\n",
    "\n",
    "print('Calling BatchDetectDominantLanguage')\n",
    "\n",
    "print('english_string_list results:')\n",
    "# json.dumps() writes JSON data to a Python string\n",
    "print(json.dumps(comprehend.batch_detect_dominant_language(TextList = english_string_list), sort_keys=True, indent=4))\n",
    "\n",
    "print('\\nspanish_string_list results:')\n",
    "print(json.dumps(comprehend.batch_detect_dominant_language(TextList = spanish_string_list), sort_keys=True, indent=4))\n",
    "print('End of BatchDetectDominantLanguage\\n')"
   ]
  },
  {
   "cell_type": "code",
   "execution_count": null,
   "metadata": {},
   "outputs": [],
   "source": []
  }
 ],
 "metadata": {
  "kernelspec": {
   "display_name": "Python 3",
   "language": "python",
   "name": "python3"
  },
  "language_info": {
   "codemirror_mode": {
    "name": "ipython",
    "version": 3
   },
   "file_extension": ".py",
   "mimetype": "text/x-python",
   "name": "python",
   "nbconvert_exporter": "python",
   "pygments_lexer": "ipython3",
   "version": "3.7.3"
  }
 },
 "nbformat": 4,
 "nbformat_minor": 2
}
