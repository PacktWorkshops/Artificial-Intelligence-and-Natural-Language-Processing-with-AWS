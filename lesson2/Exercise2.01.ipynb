{
 "cells": [
  {
   "cell_type": "markdown",
   "metadata": {},
   "source": [
    "### Exercise 2.01 : Detecting the Dominant Language"
   ]
  },
  {
   "cell_type": "markdown",
   "metadata": {},
   "source": [
    "### Pre checkup\n",
    "Assuming boto3 is installed _pip install boto3_\n",
    "\n",
    "Assuming a configuration is done by _aws configure_\n",
    "\n",
    "* Configured as follows in .aws/config:\n",
    " * [default]\n",
    " * _output = json_\n",
    " * _region = us-west-2_\n",
    "* Configured as follows in .aws/credentials:\n",
    " * [default]\n",
    " * _aws_access_key_id = YOUR_ACCESS_KEY_\n",
    " * _aws_secret_access_key = YOUR_SECRET_KEY_"
   ]
  },
  {
   "cell_type": "code",
   "execution_count": 2,
   "metadata": {},
   "outputs": [],
   "source": [
    "# import the AWS SDK for python (boto3) - http://boto3.readthedocs.io/en/latest/\n",
    "import boto3\n",
    "# import json module to serialize JSON - https://docs.python.org/3.6/library/json.html\n",
    "import json"
   ]
  },
  {
   "cell_type": "code",
   "execution_count": 4,
   "metadata": {},
   "outputs": [
    {
     "name": "stdout",
     "output_type": "stream",
     "text": [
      "Calling DetectDominantLanguage\n",
      "english_string result:\n",
      "{\n",
      "    \"Languages\": [\n",
      "        {\n",
      "            \"LanguageCode\": \"en\",\n",
      "            \"Score\": 0.993855357170105\n",
      "        }\n",
      "    ],\n",
      "    \"ResponseMetadata\": {\n",
      "        \"HTTPHeaders\": {\n",
      "            \"content-length\": \"63\",\n",
      "            \"content-type\": \"application/x-amz-json-1.1\",\n",
      "            \"date\": \"Sat, 18 Jan 2020 03:04:17 GMT\",\n",
      "            \"x-amzn-requestid\": \"05fbb292-5f10-42dd-8a3e-1e47aabb9bac\"\n",
      "        },\n",
      "        \"HTTPStatusCode\": 200,\n",
      "        \"RequestId\": \"05fbb292-5f10-42dd-8a3e-1e47aabb9bac\",\n",
      "        \"RetryAttempts\": 0\n",
      "    }\n",
      "}\n",
      "\n",
      " spanish_string result:\n",
      "{\n",
      "    \"Languages\": [\n",
      "        {\n",
      "            \"LanguageCode\": \"es\",\n",
      "            \"Score\": 0.9917230010032654\n",
      "        }\n",
      "    ],\n",
      "    \"ResponseMetadata\": {\n",
      "        \"HTTPHeaders\": {\n",
      "            \"content-length\": \"64\",\n",
      "            \"content-type\": \"application/x-amz-json-1.1\",\n",
      "            \"date\": \"Sat, 18 Jan 2020 03:04:17 GMT\",\n",
      "            \"x-amzn-requestid\": \"a270a7ac-4f2e-4c84-8d74-0f77d4869328\"\n",
      "        },\n",
      "        \"HTTPStatusCode\": 200,\n",
      "        \"RequestId\": \"a270a7ac-4f2e-4c84-8d74-0f77d4869328\",\n",
      "        \"RetryAttempts\": 0\n",
      "    }\n",
      "}\n",
      "End of DetectDominantLanguage\n",
      "\n"
     ]
    }
   ],
   "source": [
    "# instantiate a new comprehend client\n",
    "comprehend = boto3.client(service_name='comprehend') \n",
    "\n",
    "# provide english and spanish text to analyze\n",
    "english_string = 'Machine Learning is fascinating.'\n",
    "spanish_string = 'El aprendizaje automático es fascinante.'\n",
    "\n",
    "print('Calling DetectDominantLanguage')\n",
    "\n",
    "print('english_string result:')\n",
    "# json.dumps() writes JSON data to a Python string\n",
    "print(json.dumps(comprehend.detect_dominant_language(Text = english_string), sort_keys=True, indent=4))\n",
    "\n",
    "print('\\n spanish_string result:')\n",
    "print(json.dumps(comprehend.detect_dominant_language(Text = spanish_string), sort_keys=True, indent=4))\n",
    "print('End of DetectDominantLanguage\\n')"
   ]
  },
  {
   "cell_type": "code",
   "execution_count": null,
   "metadata": {},
   "outputs": [],
   "source": []
  }
 ],
 "metadata": {
  "kernelspec": {
   "display_name": "Python 3",
   "language": "python",
   "name": "python3"
  },
  "language_info": {
   "codemirror_mode": {
    "name": "ipython",
    "version": 3
   },
   "file_extension": ".py",
   "mimetype": "text/x-python",
   "name": "python",
   "nbconvert_exporter": "python",
   "pygments_lexer": "ipython3",
   "version": "3.7.3"
  }
 },
 "nbformat": 4,
 "nbformat_minor": 2
}
