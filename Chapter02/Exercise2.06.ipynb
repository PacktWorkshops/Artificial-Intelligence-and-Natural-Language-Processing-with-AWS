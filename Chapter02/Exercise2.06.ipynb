{
 "cells": [
  {
   "attachments": {},
   "cell_type": "markdown",
   "metadata": {},
   "source": [
    "### Exercise 2.06 : Detecting Sentiment Analysis"
   ]
  },
  {
   "cell_type": "markdown",
   "metadata": {},
   "source": [
    "### Pre checkup\n",
    "Assuming boto3 is installed _pip install boto3_\n",
    "\n",
    "Assuming a configuration is done by _aws configure_\n",
    "\n",
    "* Configured as follows in .aws/config:\n",
    " * [default]\n",
    " * _output = json_\n",
    " * _region = us-west-2_\n",
    "* Configured as follows in .aws/credentials:\n",
    " * [default]\n",
    " * _aws_access_key_id = YOUR_ACCESS_KEY_\n",
    " * _aws_secret_access_key = YOUR_SECRET_KEY_"
   ]
  },
  {
   "cell_type": "code",
   "execution_count": 1,
   "metadata": {},
   "outputs": [],
   "source": [
    "# import the AWS SDK for python (boto3) - http://boto3.readthedocs.io/en/latest/\n",
    "import boto3\n",
    "# import json module to serialize JSON - https://docs.python.org/3.6/library/json.html\n",
    "import json"
   ]
  },
  {
   "cell_type": "code",
   "execution_count": 2,
   "metadata": {},
   "outputs": [],
   "source": [
    "# instantiate a new comprehend client\n",
    "comprehend = boto3.client(service_name='comprehend')"
   ]
  },
  {
   "cell_type": "code",
   "execution_count": 3,
   "metadata": {},
   "outputs": [
    {
     "name": "stdout",
     "output_type": "stream",
     "text": [
      "Calling DetectSentiment\n",
      "english_string results:\n",
      "{\n",
      "    \"ResponseMetadata\": {\n",
      "        \"HTTPHeaders\": {\n",
      "            \"content-length\": \"166\",\n",
      "            \"content-type\": \"application/x-amz-json-1.1\",\n",
      "            \"date\": \"Sat, 18 Jan 2020 05:35:24 GMT\",\n",
      "            \"x-amzn-requestid\": \"d98486ca-6707-4dd8-82b7-afd269e5f86d\"\n",
      "        },\n",
      "        \"HTTPStatusCode\": 200,\n",
      "        \"RequestId\": \"d98486ca-6707-4dd8-82b7-afd269e5f86d\",\n",
      "        \"RetryAttempts\": 0\n",
      "    },\n",
      "    \"Sentiment\": \"POSITIVE\",\n",
      "    \"SentimentScore\": {\n",
      "        \"Mixed\": 3.509177759042359e-06,\n",
      "        \"Negative\": 6.833979568909854e-05,\n",
      "        \"Neutral\": 0.0013381546596065164,\n",
      "        \"Positive\": 0.9985899329185486\n",
      "    }\n",
      "}\n",
      "End of DetectSentiment\n",
      "\n"
     ]
    }
   ],
   "source": [
    "# provide a text string to analyze\n",
    "english_string = 'Today is my birthday, I am so happy.'\n",
    "\n",
    "print('Calling DetectSentiment')\n",
    "# json.dumps() writes JSON data to a Python string\n",
    "print('english_string results:')\n",
    "print(json.dumps(comprehend.detect_sentiment(Text = english_string, LanguageCode='en'), sort_keys=True, indent=4))\n",
    "print('End of DetectSentiment\\n')"
   ]
  },
  {
   "cell_type": "code",
   "execution_count": null,
   "metadata": {
    "scrolled": true
   },
   "outputs": [],
   "source": []
  }
 ],
 "metadata": {
  "kernelspec": {
   "display_name": "Python 3",
   "language": "python",
   "name": "python3"
  },
  "language_info": {
   "codemirror_mode": {
    "name": "ipython",
    "version": 3
   },
   "file_extension": ".py",
   "mimetype": "text/x-python",
   "name": "python",
   "nbconvert_exporter": "python",
   "pygments_lexer": "ipython3",
   "version": "3.7.3"
  }
 },
 "nbformat": 4,
 "nbformat_minor": 2
}
