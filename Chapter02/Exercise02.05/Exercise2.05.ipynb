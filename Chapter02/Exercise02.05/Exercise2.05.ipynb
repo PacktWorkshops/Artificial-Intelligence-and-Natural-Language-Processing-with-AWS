{
 "cells": [
  {
   "attachments": {},
   "cell_type": "markdown",
   "metadata": {},
   "source": [
    "### Exercise 2.05 : Detecting Key Phrases"
   ]
  },
  {
   "cell_type": "markdown",
   "metadata": {},
   "source": [
    "### Pre checkup\n",
    "Assuming boto3 is installed _pip install boto3_\n",
    "\n",
    "Assuming a configuration is done by _aws configure_\n",
    "\n",
    "* Configured as follows in .aws/config:\n",
    " * [default]\n",
    " * _output = json_\n",
    " * _region = us-west-2_\n",
    "* Configured as follows in .aws/credentials:\n",
    " * [default]\n",
    " * _aws_access_key_id = YOUR_ACCESS_KEY_\n",
    " * _aws_secret_access_key = YOUR_SECRET_KEY_"
   ]
  },
  {
   "cell_type": "code",
   "execution_count": 7,
   "metadata": {
    "collapsed": true
   },
   "outputs": [],
   "source": [
    "# import the AWS SDK for python (boto3) - http://boto3.readthedocs.io/en/latest/\n",
    "import boto3\n",
    "# import json module to serialize JSON - https://docs.python.org/3.6/library/json.html\n",
    "import json"
   ]
  },
  {
   "cell_type": "code",
   "execution_count": 8,
   "metadata": {
    "collapsed": true
   },
   "outputs": [],
   "source": [
    "# instantiate a new comprehend client\n",
    "comprehend = boto3.client(service_name='comprehend')"
   ]
  },
  {
   "cell_type": "code",
   "execution_count": 12,
   "metadata": {},
   "outputs": [
    {
     "name": "stdout",
     "output_type": "stream",
     "text": [
      "Calling DetectKeyPhrases\n",
      "{\n",
      "    \"KeyPhrases\": [\n",
      "        {\n",
      "            \"BeginOffset\": 0,\n",
      "            \"EndOffset\": 6,\n",
      "            \"Score\": 0.8170492053031921,\n",
      "            \"Text\": \"robert\"\n",
      "        },\n",
      "        {\n",
      "            \"BeginOffset\": 16,\n",
      "            \"EndOffset\": 23,\n",
      "            \"Score\": 0.9999998807907104,\n",
      "            \"Text\": \"a river\"\n",
      "        },\n",
      "        {\n",
      "            \"BeginOffset\": 44,\n",
      "            \"EndOffset\": 52,\n",
      "            \"Score\": 0.9881498217582703,\n",
      "            \"Text\": \"a film i\"\n",
      "        },\n",
      "        {\n",
      "            \"BeginOffset\": 76,\n",
      "            \"EndOffset\": 89,\n",
      "            \"Score\": 0.9999999403953552,\n",
      "            \"Text\": \"a masterpiece\"\n",
      "        },\n",
      "        {\n",
      "            \"BeginOffset\": 98,\n",
      "            \"EndOffset\": 114,\n",
      "            \"Score\": 0.9999999403953552,\n",
      "            \"Text\": \"the better films\"\n",
      "        },\n",
      "        {\n",
      "            \"BeginOffset\": 118,\n",
      "            \"EndOffset\": 130,\n",
      "            \"Score\": 0.9999999403953552,\n",
      "            \"Text\": \"recent years\"\n",
      "        },\n",
      "        {\n",
      "            \"BeginOffset\": 132,\n",
      "            \"EndOffset\": 156,\n",
      "            \"Score\": 0.9999833703041077,\n",
      "            \"Text\": \"The acting and direction\"\n",
      "        }\n",
      "    ],\n",
      "    \"ResponseMetadata\": {\n",
      "        \"HTTPHeaders\": {\n",
      "            \"content-length\": \"602\",\n",
      "            \"content-type\": \"application/x-amz-json-1.1\",\n",
      "            \"date\": \"Sat, 18 Jan 2020 05:26:25 GMT\",\n",
      "            \"x-amzn-requestid\": \"1d01b7bb-cac1-4348-83d9-e759c71edffc\"\n",
      "        },\n",
      "        \"HTTPStatusCode\": 200,\n",
      "        \"RequestId\": \"1d01b7bb-cac1-4348-83d9-e759c71edffc\",\n",
      "        \"RetryAttempts\": 0\n",
      "    }\n",
      "}\n",
      "End of DetectKeyPhrases\n",
      "\n"
     ]
    }
   ],
   "source": [
    "# provide english text to analyze\n",
    "english_string = 'robert redfords a river runs through is not a film i watch often. \\\n",
    "    it is a masterpiece, one of the better films of recent years. The acting and direction is top-notch \\\n",
    "    never sappy , always touching.'\n",
    "\n",
    "print('Calling DetectKeyPhrases')\n",
    "# json.dumps() writes JSON data to a Python string\n",
    "print(json.dumps(comprehend.detect_key_phrases(Text = english_string, LanguageCode='en'), sort_keys=True, indent=4))\n",
    "print('End of DetectKeyPhrases\\n')"
   ]
  },
  {
   "cell_type": "code",
   "execution_count": null,
   "metadata": {
    "scrolled": true
   },
   "outputs": [],
   "source": []
  }
 ],
 "metadata": {
  "kernelspec": {
   "display_name": "Python 3",
   "language": "python",
   "name": "python3"
  },
  "language_info": {
   "codemirror_mode": {
    "name": "ipython",
    "version": 3
   },
   "file_extension": ".py",
   "mimetype": "text/x-python",
   "name": "python",
   "nbconvert_exporter": "python",
   "pygments_lexer": "ipython3",
   "version": "3.7.3"
  }
 },
 "nbformat": 4,
 "nbformat_minor": 2
}
