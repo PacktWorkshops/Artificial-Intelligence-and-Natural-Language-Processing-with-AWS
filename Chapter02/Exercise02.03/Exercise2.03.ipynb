{
 "cells": [
  {
   "cell_type": "markdown",
   "metadata": {},
   "source": [
    "### Exercise 2.03 : Determining the Named Entities in a Document"
   ]
  },
  {
   "cell_type": "markdown",
   "metadata": {},
   "source": [
    "### Pre checkup\n",
    "Assuming boto3 is installed _pip install boto3_\n",
    "\n",
    "Assuming a configuration is done by _aws configure_\n",
    "\n",
    "* Configured as follows in .aws/config:\n",
    " * [default]\n",
    " * _output = json_\n",
    " * _region = us-west-2_\n",
    "* Configured as follows in .aws/credentials:\n",
    " * [default]\n",
    " * _aws_access_key_id = YOUR_ACCESS_KEY_\n",
    " * _aws_secret_access_key = YOUR_SECRET_KEY_"
   ]
  },
  {
   "cell_type": "code",
   "execution_count": 1,
   "metadata": {},
   "outputs": [],
   "source": [
    "# import the AWS SDK for python (boto3) - http://boto3.readthedocs.io/en/latest/\n",
    "import boto3\n",
    "# import json module to serialize JSON - https://docs.python.org/3.6/library/json.html\n",
    "import json"
   ]
  },
  {
   "cell_type": "code",
   "execution_count": 2,
   "metadata": {},
   "outputs": [
    {
     "name": "stdout",
     "output_type": "stream",
     "text": [
      "Calling DetectEntities\n",
      "{\n",
      "    \"Entities\": [\n",
      "        {\n",
      "            \"BeginOffset\": 28,\n",
      "            \"EndOffset\": 35,\n",
      "            \"Score\": 0.999705970287323,\n",
      "            \"Text\": \"Seattle\",\n",
      "            \"Type\": \"LOCATION\"\n",
      "        },\n",
      "        {\n",
      "            \"BeginOffset\": 39,\n",
      "            \"EndOffset\": 47,\n",
      "            \"Score\": 0.999932050704956,\n",
      "            \"Text\": \"Thursday\",\n",
      "            \"Type\": \"DATE\"\n",
      "        }\n",
      "    ],\n",
      "    \"ResponseMetadata\": {\n",
      "        \"HTTPHeaders\": {\n",
      "            \"content-length\": \"201\",\n",
      "            \"content-type\": \"application/x-amz-json-1.1\",\n",
      "            \"date\": \"Wed, 01 Apr 2020 15:31:22 GMT\",\n",
      "            \"x-amzn-requestid\": \"8d6b7472-c300-48c4-a7ec-ced728741f77\"\n",
      "        },\n",
      "        \"HTTPStatusCode\": 200,\n",
      "        \"RequestId\": \"8d6b7472-c300-48c4-a7ec-ced728741f77\",\n",
      "        \"RetryAttempts\": 0\n",
      "    }\n",
      "}\n",
      "End of DetectEntities\n",
      "\n"
     ]
    }
   ],
   "source": [
    "# instantiate a new comprehend client\n",
    "comprehend = boto3.client(service_name='comprehend')\n",
    "\n",
    "# provide english text to analyze\n",
    "english_string = \"I study Machine Learning in Seattle on Thursday.\"\n",
    "\n",
    "print('Calling DetectEntities')\n",
    "# json.dumps() writes JSON data to a Python string\n",
    "print(json.dumps(comprehend.detect_entities(Text = english_string, LanguageCode='en'), sort_keys=True, indent=4))\n",
    "print('End of DetectEntities\\n')"
   ]
  },
  {
   "cell_type": "code",
   "execution_count": null,
   "metadata": {},
   "outputs": [],
   "source": []
  }
 ],
 "metadata": {
  "kernelspec": {
   "display_name": "Python 3",
   "language": "python",
   "name": "python3"
  },
  "language_info": {
   "codemirror_mode": {
    "name": "ipython",
    "version": 3
   },
   "file_extension": ".py",
   "mimetype": "text/x-python",
   "name": "python",
   "nbconvert_exporter": "python",
   "pygments_lexer": "ipython3",
   "version": "3.7.3"
  }
 },
 "nbformat": 4,
 "nbformat_minor": 2
}
